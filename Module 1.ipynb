{
 "cells": [
  {
   "cell_type": "markdown",
   "metadata": {},
   "source": [
    "## Image segmentation of the digits:"
   ]
  },
  {
   "cell_type": "code",
   "execution_count": 24,
   "metadata": {},
   "outputs": [],
   "source": [
    "# Packages required:\n",
    "import numpy as np\n",
    "import matplotlib.pyplot as plt\n",
    "import keras\n",
    "import tensorflow as tf\n",
    "import cv2\n",
    "import glob\n",
    "import os"
   ]
  },
  {
   "cell_type": "markdown",
   "metadata": {},
   "source": [
    "### Function to segment the image :\n",
    "In this snippet the path of the directory where the image segments are to be stored is passed along with the count, which is gives the stored image a distinct file_name."
   ]
  },
  {
   "cell_type": "code",
   "execution_count": 25,
   "metadata": {},
   "outputs": [],
   "source": [
    "# Function to segment the image:\n",
    "def segmentImage(image, path, count):\n",
    "\n",
    "    #Resizing the image and converting to grayscale:\n",
    "    res = cv2.resize(image ,None,fx=5, fy=5, interpolation = cv2.INTER_CUBIC)\n",
    "\n",
    "    #Conversion to grayscale:\n",
    "    gray = cv2.cvtColor(res, cv2.COLOR_BGR2GRAY)\n",
    "    #plt.imshow(gray, 'gray')\n",
    "\n",
    "    # Filtering out the noise using median filtering:\n",
    "    blur = cv2.medianBlur(gray, 15)\n",
    "    #plt.imshow(blur, 'gray')\n",
    "\n",
    "    some = np.percentile(gray, 80)\n",
    "    #print some\n",
    "\n",
    "    # Binarization :\n",
    "    ret, th2 = cv2.threshold(blur,some,255,cv2.THRESH_BINARY)\n",
    "    #plt.imshow(th2, 'gray')\n",
    "\n",
    "    # Connected component analysis : (CCA)\n",
    "    im = np.uint8(th2)\n",
    "    _, markers = cv2.connectedComponents(im)\n",
    "\n",
    "    # Iterate through, segment out the image of each number:\n",
    "    for i in range(1, np.max(markers) + 1):\n",
    "        x = (markers == i)\n",
    "        y = np.sum(x, axis = 0)\n",
    "        z = np.sum(x, axis = 1)\n",
    "        max_x = 0\n",
    "        min_x = 0\n",
    "        # Finding the max width of a number(component) :\n",
    "        for j in range(y.shape[0]):\n",
    "            if y[j] != 0:\n",
    "                max_x = j\n",
    "        for j in range(y.shape[0]):\n",
    "            if y[j] != 0:\n",
    "                break\n",
    "            min_x = j\n",
    "\n",
    "        # Final setting of the dimensions of each number image:\n",
    "        min_x = min_x - 10\n",
    "        max_x = max_x + 10\n",
    "        min_y = 0\n",
    "        max_y = z.shape[0]\n",
    "        \n",
    "        #Writing the required image as a file :\n",
    "        b = str(count)\n",
    "        file_name = 'im'+b+'.jpg'\n",
    "        cv2.imwrite(os.path.join(path, file_name),res[min_y:max_y, min_x:max_x])\n",
    "        \n",
    "        #incrementing the image file counter:\n",
    "        count = count + 1\n",
    "    return count\n",
    "\n"
   ]
  },
  {
   "cell_type": "markdown",
   "metadata": {},
   "source": [
    "### Driver Function :\n",
    "Here path input is the directory in which the images after the extraction of the required number in the detol bottle are stored."
   ]
  },
  {
   "cell_type": "code",
   "execution_count": 26,
   "metadata": {},
   "outputs": [],
   "source": [
    "# Main Driver Function:\n",
    "# Path to directory for storing the segmented images :\n",
    "path_output = '/home/ignitarium/Desktop/Text_seg/segmentedNum'\n",
    "\n",
    "# Path to directory with all the images :\n",
    "path_input = '/home/ignitarium/Desktop/Text_seg/frames/'\n",
    "images = [cv2.imread(file) for file in glob.glob(path_input+'*.JPG')]\n",
    "\n",
    "# Counter for new image file names:\n",
    "count = 0\n",
    "\n",
    "#calling segmenting function :\n",
    "for img in images:\n",
    "    count = segmentImage(img, path_output, count)"
   ]
  }
 ],
 "metadata": {
  "kernelspec": {
   "display_name": "Python 2",
   "language": "python",
   "name": "python2"
  },
  "language_info": {
   "codemirror_mode": {
    "name": "ipython",
    "version": 2
   },
   "file_extension": ".py",
   "mimetype": "text/x-python",
   "name": "python",
   "nbconvert_exporter": "python",
   "pygments_lexer": "ipython2",
   "version": "2.7.15rc1"
  }
 },
 "nbformat": 4,
 "nbformat_minor": 2
}
