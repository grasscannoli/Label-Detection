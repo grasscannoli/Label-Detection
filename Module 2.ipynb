{
 "cells": [
  {
   "cell_type": "markdown",
   "metadata": {},
   "source": [
    "##  Preprocessing the segmented image:\n",
    "The segmented images are preprocessed:\n",
    "1. making the image into a square.\n",
    "2. followed by resizing the image to (28, 28)"
   ]
  },
  {
   "cell_type": "code",
   "execution_count": 300,
   "metadata": {},
   "outputs": [],
   "source": [
    "# Packages required :\n",
    "import cv2\n",
    "import numpy as np\n",
    "import glob\n",
    "import os\n",
    "import keras\n",
    "from keras.datasets import mnist\n",
    "from keras.models import Sequential\n",
    "from keras.layers import Dense, Dropout, Flatten\n",
    "from keras.layers import Conv2D, MaxPooling2D\n",
    "from keras import backend as K\n",
    "from matplotlib import pyplot as plt\n",
    "from PIL import Image"
   ]
  },
  {
   "cell_type": "markdown",
   "metadata": {},
   "source": [
    "### Simple function to make an image into a square:\n",
    "Here the dimensions of the square is of importance, if the original rectangular image's dimensions are larger,\n",
    "256 may not be sufficient. Ideally it can be made into a function - as the maximum of the dimensions of the original rectangular image."
   ]
  },
  {
   "cell_type": "code",
   "execution_count": 301,
   "metadata": {},
   "outputs": [],
   "source": [
    "# Preprocessing the image to make it into a square (ideally larger than (28,28) ):\n",
    "def make_square(im, min_size=256, fill_color=(0, 0, 0)):\n",
    "    x, y = im.size\n",
    "    size = max(min_size, x, y)\n",
    "    new_im = Image.new('RGB', (size, size), fill_color)\n",
    "    new_im.paste(im, (int((size - x) / 2), int((size - y) / 2)))\n",
    "    return new_im"
   ]
  },
  {
   "cell_type": "markdown",
   "metadata": {},
   "source": [
    "### Function to convert to square and size (28, 28):"
   ]
  },
  {
   "cell_type": "code",
   "execution_count": 302,
   "metadata": {},
   "outputs": [],
   "source": [
    "#Continuation:\n",
    "preprocess(l, path_input, path_output):    \n",
    "    for digit in l:\n",
    "        \n",
    "        path_input = path_input+str(digit)+'/'\n",
    "        images = [cv2.imread(file) for file in glob.glob(path_input+'*.jpg')]\n",
    "        \n",
    "        for idx,img in enumerate(images):\n",
    "            \n",
    "            # Convert the image to PIL format whcih is in rgb and not bgr:\n",
    "            img = cv2.resize(img, None, fx = 2, fy = 2, interpolation = cv2.INTER_CUBIC)\n",
    "            img = cv2.cvtColor(img, cv2.COLOR_BGR2RGB)\n",
    "            im_pil = Image.fromarray(img)\n",
    "            \n",
    "            # Call function in the previous snippet to get an image which has default 256*256 frame\n",
    "            # add the parameter if change is required:\n",
    "            new_image = make_square(im_pil, fill_color=(0, 0, 0))\n",
    "            \n",
    "            # Convert back to cv format:\n",
    "            img = np.asarray(new_image)  \n",
    "            \n",
    "            # Resize to (28, 28):\n",
    "            x, y, z = np.shape(img)\n",
    "            img = cv2.resize(img, None, fx = (28./x), fy = (28./y), interpolation = cv2.INTER_CUBIC)\n",
    "            img = cv2.cvtColor(img, cv2.COLOR_BGR2GRAY)\n",
    "            images[idx] = img\n",
    "            \n",
    "            #save the images back into the same folder:\n",
    "            file_name = 'img'+str(idx)+'.jpg'\n",
    "            path_output = path_output+str(digit)+'/'\n",
    "            cv2.imwrite(os.path.join(path, file_name),img)\n",
    "\n"
   ]
  },
  {
   "cell_type": "markdown",
   "metadata": {},
   "source": [
    "### Driver Code:\n",
    "Here the list l has the category/digit_class names.\n",
    "while doing the preprocessing the images for training, the digit images obtained in Module 1 must be manually organised into their respective classes. For testing purposes, you can alter the function to use the path_input arguement as it is. path_output is the path of the directory where (ideally empty) directories for each class named after the corresponding digit are present (note that the path of the digit directory itself is not the path_output)."
   ]
  },
  {
   "cell_type": "code",
   "execution_count": null,
   "metadata": {},
   "outputs": [],
   "source": [
    "# Driver Code:\n",
    "l = [0, 3, 6, 7, 8, 9]\n",
    "path_input = '/home/ignitarium/Desktop/Text_seg/'\n",
    "path_output = '/home/ignitarium/Desktop/Text_seg/classes/'\n",
    "preprocess(l, path_input, path_output)"
   ]
  }
 ],
 "metadata": {
  "kernelspec": {
   "display_name": "Python 2",
   "language": "python",
   "name": "python2"
  },
  "language_info": {
   "codemirror_mode": {
    "name": "ipython",
    "version": 2
   },
   "file_extension": ".py",
   "mimetype": "text/x-python",
   "name": "python",
   "nbconvert_exporter": "python",
   "pygments_lexer": "ipython2",
   "version": "2.7.15rc1"
  }
 },
 "nbformat": 4,
 "nbformat_minor": 2
}
